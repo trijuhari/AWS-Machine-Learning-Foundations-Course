{
 "metadata": {
  "language_info": {
   "codemirror_mode": {
    "name": "ipython",
    "version": 3
   },
   "file_extension": ".py",
   "mimetype": "text/x-python",
   "name": "python",
   "nbconvert_exporter": "python",
   "pygments_lexer": "ipython3",
   "version": "3.7.7"
  },
  "orig_nbformat": 4,
  "kernelspec": {
   "name": "python3",
   "display_name": "Python 3.7.7 64-bit ('base': conda)"
  },
  "interpreter": {
   "hash": "d87d6cf672722fd9d6e2eb48b57c96a4afa2bac3de8b81f9f462f25a5b853fbd"
  }
 },
 "nbformat": 4,
 "nbformat_minor": 2,
 "cells": [
  {
   "source": [
    "# Optimizing Code: Holiday Gifts\n",
    "In the last example, you learned that using vectorized operations and more efficient data structures can optimize your code. Let's use these tips for one more example.\n",
    "\n",
    "Say your online gift store has one million users that each listed a gift on a wish list. You have the prices for each of these gifts stored in `gift_costs.txt`. For the holidays, you're going to give each customer their wish list gift for free if it is under 25 dollars. Now, you want to calculate the total cost of all gifts under 25 dollars to see how much you'd spend on free gifts. Here's one way you could've done it."
   ],
   "cell_type": "markdown",
   "metadata": {}
  },
  {
   "cell_type": "code",
   "execution_count": 1,
   "metadata": {},
   "outputs": [],
   "source": [
    "import time \n",
    "import numpy as np"
   ]
  },
  {
   "cell_type": "code",
   "execution_count": 9,
   "metadata": {},
   "outputs": [],
   "source": [
    "with open('gift-costs.txt') as f :\n",
    "    gift_costs = f.read().split('\\n')\n",
    "gift_costs = np.array(gift_costs).astype(int)"
   ]
  },
  {
   "cell_type": "code",
   "execution_count": 10,
   "metadata": {},
   "outputs": [
    {
     "output_type": "execute_result",
     "data": {
      "text/plain": [
       "array([ 8, 84, 42, ..., 59, 12, 12])"
      ]
     },
     "metadata": {},
     "execution_count": 10
    }
   ],
   "source": [
    "start_time = time.time()"
   ]
  },
  {
   "cell_type": "code",
   "execution_count": 11,
   "metadata": {},
   "outputs": [],
   "source": [
    "import random\n",
    "import string\n",
    "\n",
    "from numpy.core.defchararray import index\n",
    "\n",
    "\n",
    "list1 = [random.choice(string.ascii_letters.upper()) for i in range(0,101)]\n",
    "list2 = [random.choice(string.ascii_letters.lower()) for i in range(0,101)]\n",
    "list11 = [random.choice(string.ascii_letters.upper()) for i in range(0,101)]\n",
    "list22 = [random.choice(string.ascii_letters.lower()) for i in range(0,101)]\n",
    "\n",
    "def aaa():\n",
    "    for i in range(0,100):  \n",
    "        print (\"Soal nomor {}\".format(i+1)) \n",
    "        print(list1[random.randint(0,100)]+\"\\t\"+ list11[random.randint(0,100)] +\"\\t\"+ list1[random.randint(0,100)]+\"\\t\"+ list11[random.randint(0,100)]+'\\n' +\n",
    "        list22[random.randint(0,100)]+\"\\t\" + list2[random.randint(0,100)] +\"\\t\" +list22[random.randint(0,100)]+\"\\t\" + list2[random.randint(0,100)] )\n",
    "        print()\n",
    "        print(\"1\\t2\\t3\\t4\\t\")\n",
    "        print()\n",
    "        \n",
    "def soal2():\n",
    "    nomor =1\n",
    "    for i in range(1,100):\n",
    "        a = random.choice(string.ascii_letters.upper())\n",
    "        b = random.choice(string.ascii_letters.upper())\n",
    "        c = random.choice(string.ascii_letters.upper())\n",
    "        if a != b and a != c and b !=c:\n",
    "            list =[a,b,c]\n",
    "            list = sorted(list)\n",
    "            print(\"Soal {}\".format(nomor))\n",
    "            print()\n",
    "            print(list[0] +\"\\t\"+ list[1]+ \"\\t\"+ list[2]+ \"\\n\")\n",
    "            print(list[0] +\"\\t\"+\"\\t\"+list[2])\n",
    "            print()\n",
    "            print()\n",
    "            nomor +=1 \n",
    "        \n",
    "def soal3():\n",
    "    LIST =[10,20]\n",
    "    for i in range (1,101):\n",
    "        print(\"{}. \\n\".format(i))\n",
    "        print(random.randint(1,int(random.choice([10,20]))), \"\\t A\")\n",
    "        print(random.randint(1,int(random.choice([10,20]))), \"\\t B\")\n",
    "        print(random.randint(1,int(random.choice([10,20]))), \"\\t C \\n\")\n",
    "        \n",
    "\n",
    "\n",
    "\n"
   ]
  },
  {
   "cell_type": "code",
   "execution_count": 112,
   "metadata": {},
   "outputs": [],
   "source": [
    "def create_soal():\n",
    "    cx = string.ascii_letters.upper()\n",
    "    alfabet = [i for i in cx[:26]  ]\n",
    "    huruf_ke = alfabet.index(random.choice(alfabet))\n",
    "    huruf_tengah =  huruf_ke + random.randint(1,5)\n",
    "    huruf_akhir =   huruf_tengah + random.randint(1,5)\n",
    "    if huruf_ke <= 25  and huruf_akhir < 27  :\n",
    "        if (huruf_tengah - huruf_ke) != 1 and  (huruf_akhir - huruf_tengah) != 1 :\n",
    "            print()\n",
    "            print(alfabet[huruf_ke] +\"\\t\"+alfabet[huruf_tengah] + \"\\t\"+ alfabet[huruf_akhir]+ \"\\n\")\n",
    "            print(alfabet[huruf_ke] +\"\\t\"+\"\\t\"+alfabet[huruf_akhir])\n",
    "            print()\n",
    "        else:\n",
    "            create_soal()\n",
    "    else:\n",
    "        create_soal()\n"
   ]
  },
  {
   "cell_type": "code",
   "execution_count": 136,
   "metadata": {},
   "outputs": [
    {
     "output_type": "stream",
     "name": "stdout",
     "text": [
      "Soal \n\n\nC\tG\tJ\n\nC\t\tJ\n\nSoal \n\n\nN\tR\tW\n\nN\t\tW\n\nSoal \n\n\nP\tT\tY\n\nP\t\tY\n\nSoal \n\n\nN\tS\tU\n\nN\t\tU\n\nSoal \n\n\nR\tW\tZ\n\nR\t\tZ\n\nSoal \n\n\nE\tJ\tO\n\nE\t\tO\n\nSoal \n\n\nJ\tL\tQ\n\nJ\t\tQ\n\nSoal \n\n\nH\tL\tP\n\nH\t\tP\n\nSoal \n\n\nM\tO\tR\n\nM\t\tR\n\nSoal \n\n\nK\tP\tU\n\nK\t\tU\n\nSoal \n\n\n"
     ]
    },
    {
     "output_type": "error",
     "ename": "IndexError",
     "evalue": "list index out of range",
     "traceback": [
      "\u001b[0;31m---------------------------------------------------------------------------\u001b[0m",
      "\u001b[0;31mIndexError\u001b[0m                                Traceback (most recent call last)",
      "\u001b[0;32m<ipython-input-136-ea900e471466>\u001b[0m in \u001b[0;36m<module>\u001b[0;34m\u001b[0m\n\u001b[1;32m      5\u001b[0m         \u001b[0mprint\u001b[0m \u001b[0;34m(\u001b[0m\u001b[0;34m\"Soal \"\u001b[0m\u001b[0;34m)\u001b[0m\u001b[0;34m\u001b[0m\u001b[0;34m\u001b[0m\u001b[0m\n\u001b[1;32m      6\u001b[0m         \u001b[0mprint\u001b[0m\u001b[0;34m(\u001b[0m\u001b[0;34m)\u001b[0m\u001b[0;34m\u001b[0m\u001b[0;34m\u001b[0m\u001b[0m\n\u001b[0;32m----> 7\u001b[0;31m         \u001b[0mcreate_soal\u001b[0m\u001b[0;34m(\u001b[0m\u001b[0;34m)\u001b[0m\u001b[0;34m\u001b[0m\u001b[0;34m\u001b[0m\u001b[0m\n\u001b[0m",
      "\u001b[0;32m<ipython-input-112-5a36881fa24c>\u001b[0m in \u001b[0;36mcreate_soal\u001b[0;34m()\u001b[0m\n\u001b[1;32m      8\u001b[0m         \u001b[0;32mif\u001b[0m \u001b[0;34m(\u001b[0m\u001b[0mhuruf_tengah\u001b[0m \u001b[0;34m-\u001b[0m \u001b[0mhuruf_ke\u001b[0m\u001b[0;34m)\u001b[0m \u001b[0;34m!=\u001b[0m \u001b[0;36m1\u001b[0m \u001b[0;32mand\u001b[0m  \u001b[0;34m(\u001b[0m\u001b[0mhuruf_akhir\u001b[0m \u001b[0;34m-\u001b[0m \u001b[0mhuruf_tengah\u001b[0m\u001b[0;34m)\u001b[0m \u001b[0;34m!=\u001b[0m \u001b[0;36m1\u001b[0m \u001b[0;34m:\u001b[0m\u001b[0;34m\u001b[0m\u001b[0;34m\u001b[0m\u001b[0m\n\u001b[1;32m      9\u001b[0m             \u001b[0mprint\u001b[0m\u001b[0;34m(\u001b[0m\u001b[0;34m)\u001b[0m\u001b[0;34m\u001b[0m\u001b[0;34m\u001b[0m\u001b[0m\n\u001b[0;32m---> 10\u001b[0;31m             \u001b[0mprint\u001b[0m\u001b[0;34m(\u001b[0m\u001b[0malfabet\u001b[0m\u001b[0;34m[\u001b[0m\u001b[0mhuruf_ke\u001b[0m\u001b[0;34m]\u001b[0m \u001b[0;34m+\u001b[0m\u001b[0;34m\"\\t\"\u001b[0m\u001b[0;34m+\u001b[0m\u001b[0malfabet\u001b[0m\u001b[0;34m[\u001b[0m\u001b[0mhuruf_tengah\u001b[0m\u001b[0;34m]\u001b[0m \u001b[0;34m+\u001b[0m \u001b[0;34m\"\\t\"\u001b[0m\u001b[0;34m+\u001b[0m \u001b[0malfabet\u001b[0m\u001b[0;34m[\u001b[0m\u001b[0mhuruf_akhir\u001b[0m\u001b[0;34m]\u001b[0m\u001b[0;34m+\u001b[0m \u001b[0;34m\"\\n\"\u001b[0m\u001b[0;34m)\u001b[0m\u001b[0;34m\u001b[0m\u001b[0;34m\u001b[0m\u001b[0m\n\u001b[0m\u001b[1;32m     11\u001b[0m             \u001b[0mprint\u001b[0m\u001b[0;34m(\u001b[0m\u001b[0malfabet\u001b[0m\u001b[0;34m[\u001b[0m\u001b[0mhuruf_ke\u001b[0m\u001b[0;34m]\u001b[0m \u001b[0;34m+\u001b[0m\u001b[0;34m\"\\t\"\u001b[0m\u001b[0;34m+\u001b[0m\u001b[0;34m\"\\t\"\u001b[0m\u001b[0;34m+\u001b[0m\u001b[0malfabet\u001b[0m\u001b[0;34m[\u001b[0m\u001b[0mhuruf_akhir\u001b[0m\u001b[0;34m]\u001b[0m\u001b[0;34m)\u001b[0m\u001b[0;34m\u001b[0m\u001b[0;34m\u001b[0m\u001b[0m\n\u001b[1;32m     12\u001b[0m             \u001b[0mprint\u001b[0m\u001b[0;34m(\u001b[0m\u001b[0;34m)\u001b[0m\u001b[0;34m\u001b[0m\u001b[0;34m\u001b[0m\u001b[0m\n",
      "\u001b[0;31mIndexError\u001b[0m: list index out of range"
     ]
    }
   ],
   "source": [
    "nomor =0\n",
    "for i in range(1,1000):\n",
    "    nomor +=1\n",
    "    if nomor <= 100:\n",
    "        print (\"Soal \") \n",
    "        print()\n",
    "        create_soal()\n"
   ]
  }
 ]
}